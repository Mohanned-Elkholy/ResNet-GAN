{
  "nbformat": 4,
  "nbformat_minor": 0,
  "metadata": {
    "colab": {
      "name": "ResnetGanGithub.ipynb",
      "provenance": []
    },
    "kernelspec": {
      "name": "python3",
      "display_name": "Python 3"
    },
    "language_info": {
      "name": "python"
    },
    "accelerator": "GPU"
  },
  "cells": [
    {
      "cell_type": "markdown",
      "metadata": {
        "id": "GnieWNL4Qmkc"
      },
      "source": [
        "Dependancies"
      ]
    },
    {
      "cell_type": "code",
      "metadata": {
        "colab": {
          "base_uri": "https://localhost:8080/",
          "height": 173
        },
        "id": "Jca_qc09QhOc",
        "outputId": "25d17961-9efc-4f7f-9009-4dbab72d478f"
      },
      "source": [
        "!pip install argparse"
      ],
      "execution_count": 1,
      "outputs": [
        {
          "output_type": "stream",
          "name": "stdout",
          "text": [
            "Collecting argparse\n",
            "  Downloading argparse-1.4.0-py2.py3-none-any.whl (23 kB)\n",
            "Installing collected packages: argparse\n",
            "Successfully installed argparse-1.4.0\n"
          ]
        },
        {
          "output_type": "display_data",
          "data": {
            "application/vnd.colab-display-data+json": {
              "pip_warning": {
                "packages": [
                  "argparse"
                ]
              }
            }
          },
          "metadata": {}
        }
      ]
    },
    {
      "cell_type": "markdown",
      "metadata": {
        "id": "Aw3WQwiqQps7"
      },
      "source": [
        "Clone"
      ]
    },
    {
      "cell_type": "code",
      "metadata": {
        "colab": {
          "base_uri": "https://localhost:8080/"
        },
        "id": "4TGAswhgQylH",
        "outputId": "9e37ffef-4807-4a8c-b0be-ba410fedf1df"
      },
      "source": [
        "!git clone https://github.com/Mohanned-Elkholy/ResNet-GAN"
      ],
      "execution_count": 2,
      "outputs": [
        {
          "output_type": "stream",
          "name": "stdout",
          "text": [
            "Cloning into 'ResNet-GAN'...\n",
            "remote: Enumerating objects: 41, done.\u001b[K\n",
            "remote: Counting objects: 100% (41/41), done.\u001b[K\n",
            "remote: Compressing objects: 100% (29/29), done.\u001b[K\n",
            "remote: Total 41 (delta 9), reused 25 (delta 5), pack-reused 0\u001b[K\n",
            "Unpacking objects: 100% (41/41), done.\n"
          ]
        }
      ]
    },
    {
      "cell_type": "markdown",
      "metadata": {
        "id": "GQMClyU7Q067"
      },
      "source": [
        "get to the location"
      ]
    },
    {
      "cell_type": "code",
      "metadata": {
        "colab": {
          "base_uri": "https://localhost:8080/"
        },
        "id": "wyEv1qO7Q3oY",
        "outputId": "adcf1d3a-ae6e-4847-ef5a-6e8e0cf3bff6"
      },
      "source": [
        "%cd /content/ResNet-GAN"
      ],
      "execution_count": 3,
      "outputs": [
        {
          "output_type": "stream",
          "name": "stdout",
          "text": [
            "/content/ResNet-GAN\n"
          ]
        }
      ]
    },
    {
      "cell_type": "markdown",
      "metadata": {
        "id": "ZgzCoFscRC1m"
      },
      "source": [
        "Run the function: Done't forget to put the dataset in the dataset path"
      ]
    },
    {
      "cell_type": "code",
      "metadata": {
        "colab": {
          "base_uri": "https://localhost:8080/"
        },
        "id": "Uk04O6UNRCQM",
        "outputId": "70dc6d69-158f-4ce9-c38d-2bcd1bd1e8d3"
      },
      "source": [
        "#modify dataset_path to your path\n",
        "!python main.py --dataset_path /content/drive/MyDrive/For_Jacob/Githubs/input_images --GAN_check_point_path '/' --outputs 'outputs' --continue_training_from_checkpoint False"
      ],
      "execution_count": 4,
      "outputs": [
        {
          "output_type": "stream",
          "name": "stdout",
          "text": [
            "/content/ResNet-GAN/src/discriminator/utils.py:105: UserWarning: nn.init.xavier_uniform is now deprecated in favor of nn.init.xavier_uniform_.\n",
            "  nn.init.xavier_uniform(self.conv1.weight.data, 1.)\n",
            "/content/ResNet-GAN/src/discriminator/utils.py:106: UserWarning: nn.init.xavier_uniform is now deprecated in favor of nn.init.xavier_uniform_.\n",
            "  nn.init.xavier_uniform(self.conv2.weight.data, 1.)\n",
            "/content/ResNet-GAN/src/discriminator/utils.py:107: UserWarning: nn.init.xavier_uniform is now deprecated in favor of nn.init.xavier_uniform_.\n",
            "  nn.init.xavier_uniform(self.bypass_conv.weight.data, np.sqrt(2))\n",
            "/content/ResNet-GAN/src/discriminator/utils.py:61: UserWarning: nn.init.xavier_uniform is now deprecated in favor of nn.init.xavier_uniform_.\n",
            "  nn.init.xavier_uniform(self.conv1.weight.data, 1.)\n",
            "/content/ResNet-GAN/src/discriminator/utils.py:62: UserWarning: nn.init.xavier_uniform is now deprecated in favor of nn.init.xavier_uniform_.\n",
            "  nn.init.xavier_uniform(self.conv2.weight.data, 1.)\n",
            "/content/ResNet-GAN/src/discriminator/utils.py:85: UserWarning: nn.init.xavier_uniform is now deprecated in favor of nn.init.xavier_uniform_.\n",
            "  nn.init.xavier_uniform(self.bypass_conv.weight.data, np.sqrt(2))\n",
            "/content/ResNet-GAN/src/discriminator/utils.py:139: UserWarning: nn.init.xavier_uniform is now deprecated in favor of nn.init.xavier_uniform_.\n",
            "  nn.init.xavier_uniform(self.fc.weight.data, 1.)\n",
            "/content/ResNet-GAN/src/generator/utils.py:90: UserWarning: nn.init.xavier_uniform is now deprecated in favor of nn.init.xavier_uniform_.\n",
            "  nn.init.xavier_uniform(self.Dense.weight.data, 1.)\n",
            "/content/ResNet-GAN/src/generator/utils.py:115: UserWarning: nn.init.xavier_uniform is now deprecated in favor of nn.init.xavier_uniform_.\n",
            "  nn.init.xavier_uniform(self.dense.weight.data, 1.)\n",
            "/content/ResNet-GAN/src/generator/utils.py:116: UserWarning: nn.init.xavier_uniform is now deprecated in favor of nn.init.xavier_uniform_.\n",
            "  nn.init.xavier_uniform(self.final.weight.data, 1.)\n",
            "/content/ResNet-GAN/src/generator/utils.py:63: UserWarning: nn.init.xavier_uniform is now deprecated in favor of nn.init.xavier_uniform_.\n",
            "  nn.init.xavier_uniform(self.conv1.weight.data, 1.)\n",
            "/content/ResNet-GAN/src/generator/utils.py:64: UserWarning: nn.init.xavier_uniform is now deprecated in favor of nn.init.xavier_uniform_.\n",
            "  nn.init.xavier_uniform(self.conv2.weight.data, 1.)\n",
            "  0%|          | 0/100 [00:00<?, ?it/s]\n",
            "Traceback (most recent call last):\n",
            "  File \"main.py\", line 132, in <module>\n",
            "    train_one_epoch(loader,batch_size,disc_iters,Z_dim,optim_disc,optim_gen,discriminator,generator,epoch)\n",
            "  File \"/content/ResNet-GAN/src/training_functions/utils.py\", line 80, in train_one_epoch\n",
            "    disc_loss.backward()\n",
            "  File \"/usr/local/lib/python3.7/dist-packages/torch/_tensor.py\", line 255, in backward\n",
            "    torch.autograd.backward(self, gradient, retain_graph, create_graph, inputs=inputs)\n",
            "  File \"/usr/local/lib/python3.7/dist-packages/torch/autograd/__init__.py\", line 149, in backward\n",
            "    allow_unreachable=True, accumulate_grad=True)  # allow_unreachable flag\n",
            "KeyboardInterrupt\n"
          ]
        }
      ]
    },
    {
      "cell_type": "code",
      "metadata": {
        "colab": {
          "base_uri": "https://localhost:8080/"
        },
        "id": "GmpvJk_3Reh3",
        "outputId": "c8c5d91f-998a-46bc-bd7e-b9a791a2ce2c"
      },
      "source": [
        ""
      ],
      "execution_count": 5,
      "outputs": [
        {
          "output_type": "stream",
          "name": "stdout",
          "text": [
            "Drive already mounted at /content/drive; to attempt to forcibly remount, call drive.mount(\"/content/drive\", force_remount=True).\n"
          ]
        }
      ]
    }
  ]
}